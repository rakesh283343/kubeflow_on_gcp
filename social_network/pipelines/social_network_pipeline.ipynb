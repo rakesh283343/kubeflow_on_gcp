import kfp.dsl as dsl
import kfp.compiler as compiler

@dsl.pipeline(
    name='Logistic Regression on social Network',
    description='Example pipeline that does classification with model analysis based on a Social Network ads.'
)
def social_network_ads():
    import_comp=dsl.ContainerOp(
        name="import",
        image='us.gcr.io/kubeflow-on-mnist/social-network-import@sha256:df45b3f002fbd7311e6f470234dfc566d48c34051fb9c06e3e3b0c152a6a873c',
        arguments=[],
        file_outputs={
            'X': 'X.txt',
            'y': 'y.txt',
            'artifacts':'/mlpipeline-ui-metadata.json'
        }
    )

    fit_comp=dsl.ContainerOp(
        name='fit',
        image='us.gcr.io/kubeflow-on-mnist/social-network-fit@sha256:fa5cbfd92a39c9239ee22d26a928d7202d9d5971f770fd7740cedc11bd878f27',
        arguments=[
            import_comp.outputs['X'],
            import_comp.outputs['y']
        ],
        file_outputs={'transformed': 'output.txt'}
    )
	
pipeline_func=social_network_ads
pipeline_filename = pipeline_func.__name__ + '.pipeline.zip'
compiler.Compiler().compile(pipeline_func,pipeline_filename)